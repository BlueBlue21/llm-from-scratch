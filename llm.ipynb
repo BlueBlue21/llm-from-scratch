{
 "cells": [
  {
   "cell_type": "markdown",
   "metadata": {},
   "source": [
    "# IPython 커널 설치 필요!\n",
    "\n",
    "이 프로젝트에선 파이썬 가상 환경을 사용 중임.\n",
    "\n",
    "## 출처\n",
    "\n",
    "이 프로젝트는 홍정모 교수님의 영상을 참고하였습니다.\n",
    "\n",
    "홍정모 교수님께 진심으로 감사드립니다.\n",
    "\n",
    "[홍정모 연구소](https://honglab.co.kr/)\n",
    "\n",
    "[참고한 홍정모 연구소 유튜브 영상](https://www.youtube.com/watch?v=osv2csoHVAo)\n",
    "\n",
    "- <https://www.kaggle.com/datasets/shubhammaindola/harry-potter-books>"
   ]
  },
  {
   "cell_type": "markdown",
   "metadata": {},
   "source": [
    "### 패키지 설치"
   ]
  },
  {
   "cell_type": "code",
   "execution_count": null,
   "metadata": {},
   "outputs": [],
   "source": [
    "# NumPy\n",
    "%pip install numpy"
   ]
  },
  {
   "cell_type": "code",
   "execution_count": null,
   "metadata": {},
   "outputs": [],
   "source": [
    "# 파이 토치\n",
    "%pip install torch --index-url https://download.pytorch.org/whl/cu126"
   ]
  },
  {
   "cell_type": "code",
   "execution_count": null,
   "metadata": {},
   "outputs": [],
   "source": [
    "# tiktoken - OpenAI에서 제작한 빠른 바이트 페어 인코딩 토크나이저임.\n",
    "%pip install tiktoken"
   ]
  },
  {
   "cell_type": "code",
   "execution_count": null,
   "metadata": {},
   "outputs": [],
   "source": [
    "# requirements.txt\n",
    "%pip freeze > requirements.txt"
   ]
  },
  {
   "cell_type": "markdown",
   "metadata": {},
   "source": [
    "### 디바이스 확인"
   ]
  },
  {
   "cell_type": "code",
   "execution_count": 2,
   "metadata": {},
   "outputs": [
    {
     "name": "stdout",
     "output_type": "stream",
     "text": [
      "cuda\n"
     ]
    }
   ],
   "source": [
    "import torch\n",
    "\n",
    "print(\"cuda\" if torch.cuda.is_available() else \"cpu\")"
   ]
  },
  {
   "cell_type": "markdown",
   "metadata": {},
   "source": [
    "### 토크나이저 맛보기"
   ]
  },
  {
   "cell_type": "code",
   "execution_count": 9,
   "metadata": {},
   "outputs": [
    {
     "name": "stdout",
     "output_type": "stream",
     "text": [
      "Text: Hello, world! Tokens: [15496, 11, 995, 0] \n",
      "\n",
      "Text Length: 13 Token Length: 4 \n",
      "\n",
      "15496\t -> Hello\n",
      "11\t -> ,\n",
      "995\t ->  world\n",
      "0\t -> !\n"
     ]
    }
   ],
   "source": [
    "import tiktoken\n",
    "\n",
    "tokenizer = tiktoken.get_encoding(\"gpt2\")  # 오픈 소스 모델\n",
    "\n",
    "text = \"Hello, world!\"\n",
    "tokens = tokenizer.encode(text)\n",
    "\n",
    "print(\"Text:\", text, \"Tokens:\", tokens, \"\\n\")\n",
    "print(\"Text Length:\", len(text), \"Token Length:\", len(tokens), \"\\n\")\n",
    "\n",
    "for token in tokens:\n",
    "    print(f\"{token}\\t -> {tokenizer.decode([token])}\")"
   ]
  },
  {
   "cell_type": "markdown",
   "metadata": {},
   "source": [
    "### 데이터셋 다듬기"
   ]
  },
  {
   "cell_type": "code",
   "execution_count": 4,
   "metadata": {},
   "outputs": [
    {
     "name": "stdout",
     "output_type": "stream",
     "text": [
      "dataset/harry-potter-books\\01 Harry Potter and the Sorcerers Stone CLEANED.txt was written with 436000 characters.\n",
      "dataset/harry-potter-books\\02 Harry Potter and the Chamber of Secrets CLEANED.txt was written with 488771 characters.\n",
      "dataset/harry-potter-books\\03 Harry Potter and the Prisoner of Azkaban CLEANED.txt was written with 621137 characters.\n",
      "dataset/harry-potter-books\\04 Harry Potter and the Goblet of Fire CLEANED.txt was written with 1093670 characters.\n",
      "dataset/harry-potter-books\\05 Harry Potter and the Order of the Phoenix CLEANED.txt was written with 1489734 characters.\n",
      "dataset/harry-potter-books\\06 Harry Potter and the Half-Blood Prince CLEANED.txt was written with 982041 characters.\n",
      "dataset/harry-potter-books\\07 Harry Potter and the Deathly Hallows CLEANED.txt was written with 1133063 characters.\n"
     ]
    }
   ],
   "source": [
    "import re\n",
    "import glob\n",
    "\n",
    "\n",
    "def clean_text(file_path):\n",
    "    with open(file_path, \"r\", encoding=\"utf-8\") as file:\n",
    "        text = file.read()\n",
    "\n",
    "    cleaned_text = re.sub(r\"\\n+\", \" \", text)\n",
    "    cleaned_text = re.sub(r\"\\s+\", \" \", cleaned_text)\n",
    "\n",
    "    file_path = re.sub(r\"\\.txt$\", \" CLEANED.txt\", file_path)\n",
    "\n",
    "    with open(file_path, \"w\", encoding=\"utf-8\") as file:\n",
    "        file.write(cleaned_text)\n",
    "\n",
    "    print(file_path, \"was written with\", len(cleaned_text), \"characters.\")\n",
    "\n",
    "\n",
    "for file_path in glob.glob(\"dataset/harry-potter-books/*.txt\"):\n",
    "    if not re.search(r\"CLEANED.txt$\", file_path):\n",
    "        clean_text(file_path)"
   ]
  },
  {
   "cell_type": "markdown",
   "metadata": {},
   "source": [
    "### 데이터셋 로더"
   ]
  },
  {
   "cell_type": "code",
   "execution_count": 5,
   "metadata": {},
   "outputs": [
    {
     "name": "stdout",
     "output_type": "stream",
     "text": [
      "Token Length: 117767\n"
     ]
    }
   ],
   "source": [
    "import torch\n",
    "from torch.utils.data import Dataset, DataLoader\n",
    "\n",
    "\n",
    "class MyDataset(Dataset):\n",
    "    def __init__(self, text, max_length, stride):\n",
    "        self.input_ids = []\n",
    "        self.target_ids = []\n",
    "\n",
    "        token_ids = tokenizer.encode(text)\n",
    "\n",
    "        print(\"Token Length:\", len(token_ids))\n",
    "\n",
    "        for i in range(0, len(token_ids) - max_length, stride):\n",
    "            input_chunk = token_ids[i : i + max_length]\n",
    "            target_chunk = token_ids[i + 1 : i + max_length + 1]\n",
    "            self.input_ids.append(torch.tensor(input_chunk))\n",
    "            self.target_ids.append(torch.tensor(target_chunk))\n",
    "\n",
    "    def __len__(self):\n",
    "        return len(self.input_ids)\n",
    "\n",
    "    def __getitem__(self, index):\n",
    "        return self.input_ids[index], self.target_ids[index]\n",
    "\n",
    "\n",
    "with open(\n",
    "    \"dataset/harry-potter-books/01 Harry Potter and the Sorcerers Stone CLEANED.txt\",\n",
    "    \"r\",\n",
    "    encoding=\"utf-8-sig\",  # utf-8-sig는 BOM(바이트 오더 마크)을 제거해줌.\n",
    ") as file:\n",
    "    text = file.read()\n",
    "\n",
    "dataset = MyDataset(text, 32, 4)\n",
    "train_loader = DataLoader(dataset, 128, True, drop_last=True)"
   ]
  },
  {
   "cell_type": "code",
   "execution_count": 6,
   "metadata": {},
   "outputs": [
    {
     "name": "stdout",
     "output_type": "stream",
     "text": [
      "What do they think they’re doing, keeping a thing like that locked up in a school?” said Ron finally. “If any dog\n",
      " do they think they’re doing, keeping a thing like that locked up in a school?” said Ron finally. “If any dog needs\n"
     ]
    }
   ],
   "source": [
    "dataiter = iter(train_loader)\n",
    "x, y = next(dataiter)\n",
    "\n",
    "print(tokenizer.decode(x[0].tolist()))\n",
    "print(tokenizer.decode(y[0].tolist()))"
   ]
  },
  {
   "cell_type": "code",
   "execution_count": null,
   "metadata": {},
   "outputs": [],
   "source": []
  }
 ],
 "metadata": {
  "kernelspec": {
   "display_name": ".venv",
   "language": "python",
   "name": "python3"
  },
  "language_info": {
   "codemirror_mode": {
    "name": "ipython",
    "version": 3
   },
   "file_extension": ".py",
   "mimetype": "text/x-python",
   "name": "python",
   "nbconvert_exporter": "python",
   "pygments_lexer": "ipython3",
   "version": "3.12.4"
  }
 },
 "nbformat": 4,
 "nbformat_minor": 2
}
